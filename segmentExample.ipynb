{
 "cells": [
  {
   "cell_type": "markdown",
   "metadata": {},
   "source": [
    "# Segmentation Example\n",
    "This notebook gives an example of how to use [pyshepseg](https://www.pyshepseg.org) to segment an image of any size, extract statistics associated with the segments and create a vector version of the output.\n",
    "\n",
    "You'll need to install both [RIOS](https://www.rioshome.org/en/latest/#downloads) and [pyshepseg](https://www.pyshepseg.org/en/latest/#installation) to make this work, ideally in a new environment.\n",
    "\n",
    "Note that there seems to be a bug in the statistics generation that I think is related to the use of JPEG compression in tiff files. If statistics are not generated, try first translating the image using something like:\n",
    "```\n",
    "gdal_translate -of GTiff -co COMPRESS=DEFLATE -co TILED=YES -co BIGTIFF=YES INFILE_COMPRESSTED_WITH_JPEG.tif OUTFILE_COMPRESSED_WITH_DEFLATE.tif\n",
    "```\n",
    "\n",
    "To run this it might be useful to set up a new environment\n",
    "f you're new to this, I'd recommend starting with [Miniconda](https://docs.conda.io/en/latest/miniconda.html) then installing the required packages in a new environment. I'd also recommend replacing conda with mamba to speed up the solving of python dependencies. Something like this should work:\n",
    "```\n",
    "conda create --name seg python=3.9\n",
    "conda activate seg \n",
    "conda install -c conda-forge mamba\n",
    "mamba install -c conda-forge jupyterlab rios gdal numpy numba pip scikit-learn\n",
    "```\n",
    "\n",
    "Then either use the copy of pyshepseg in this repo, or (much) better install it using the [install directions](https://www.pyshepseg.org/en/latest/#installation) on the pyshepseg website."
   ]
  },
  {
   "cell_type": "code",
   "execution_count": 1,
   "metadata": {},
   "outputs": [],
   "source": [
    "\n",
    "# First we import the required packages\n",
    "import os\n",
    "import numpy as np\n",
    "import matplotlib.pyplot as plt\n",
    "from pyshepseg import shepseg\n",
    "from pyshepseg import tiling\n",
    "from pyshepseg import utils\n",
    "from rios import applier\n",
    "from rios import rat\n",
    "from rios import ratapplier\n",
    "from osgeo import gdal\n",
    "from osgeo import ogr\n",
    "from osgeo import osr\n",
    "import joblib\n",
    "\n",
    "\n",
    "# Utility function to get the nodata vaues of a raster\n",
    "def getNodata(raster):\n",
    "    raster = gdal.Open(raster)\n",
    "    band = raster.GetRasterBand(1)\n",
    "    nodata = band.GetNoDataValue()\n",
    "    return nodata\n",
    "\n",
    "\n",
    "# Filenames used in this notebook\n",
    "RASTER = '14MAY28105005-S3DS-subset.tif'\n",
    "LAYERNAME=os.path.splitext(os.path.basename(RASTER))[0]\n",
    "OUTFILE = LAYERNAME + '.kea'\n",
    "RGBFILE = LAYERNAME + '_rgb.tif'\n",
    "IDFILE = LAYERNAME + '_id.tif'\n",
    "SEGFILE = LAYERNAME + '_seg.gpkg'\n",
    "CSVFILE = LAYERNAME + '_rat.csv'\n",
    "\n",
    "# Get the NoData value of the input file\n",
    "noData = getNodata(RASTER)"
   ]
  },
  {
   "cell_type": "markdown",
   "metadata": {},
   "source": [
    "## Run the tiled segmenter\n",
    "This takes a while to run, and the initiAL KMEANs clustering can take hours for large images.\n",
    "\n",
    "The process works by segmenting tiles. These need to be small enough to fit in memory, with enough overlap so they stitch together neatly at the end.\n",
    "\n",
    "There are quite a few options that control the segmentation, in particular minSegmentSize is the minimum segment size (in pixels) which will be left after eliminating small segments (except for segments which cannot be eliminated) and maxSpectralDiff sets a limit on how different segments can be and still be merged. It is given in the units of the spectral space of img. If maxSpectralDiff is ‘auto’, a default value will be calculated from the spectral distances between cluster centres, as a percentile of the distribution of these (spectDistPcntile). The value of spectDistPcntile should be lowered when segementing an image with a larger range of spectral distances. If fourConnected is True, then use 4-way connectedness when clumping, otherwise use 8-way connectedness. Default values are mostly as suggested by Shepherd et al.\n",
    "\n",
    "By default this writes a [KEA](http://www.kealib.org/) format image, as we make extensive use of the raster attribute table to store data.\n",
    "\n",
    "After the segmentation, we also calculate histograms and some statistics on the segment IDs\n",
    "\n"
   ]
  },
  {
   "cell_type": "code",
   "execution_count": 2,
   "metadata": {},
   "outputs": [
    {
     "name": "stdout",
     "output_type": "stream",
     "text": [
      "Starting tiled segmentation\n",
      "KMeans of whole raster 6.01 seconds\n",
      "Subsample Percentage=1.00\n",
      "Found 2 tiles, with 1 rows and 2 cols\n",
      "\n",
      "Doing tile 1 of 2: row=0, col=0\n",
      "Kmeans, in 0.7 seconds\n",
      "Found 11364647 clumps, in 1.2 seconds\n",
      "Eliminated 8157153 single pixels, in 2.3 seconds\n",
      "Eliminated 3205868 segments, in 268.0 seconds\n",
      "Final result has 1626 segments\n",
      "\n",
      "Doing tile 2 of 2: row=0, col=1\n",
      "Kmeans, in 0.9 seconds\n",
      "Found 14718709 clumps, in 0.7 seconds\n",
      "Eliminated 10485658 single pixels, in 2.0 seconds\n",
      "Eliminated 4229150 segments, in 337.1 seconds\n",
      "Final result has 3901 segments\n",
      "Stitching tiles together\n",
      "Stitching tile row 0\n"
     ]
    }
   ],
   "source": [
    "\n",
    "TILE_SIZE = 4096 # Set this so the tiles fit in memory\n",
    "OVERLAP_SIZE = TILE_SIZE // 16\n",
    "MIN_PIXELS = 10000 # Minimum number of pixels in a segment to be considered a valid segment = 2500 m2\n",
    "\n",
    "# Run the tiles segmentation\n",
    "tiledSegResult = tiling.doTiledShepherdSegmentation(RASTER, OUTFILE, \n",
    "        tileSize=TILE_SIZE, overlapSize=OVERLAP_SIZE, \n",
    "        minSegmentSize=MIN_PIXELS, numClusters=60,\n",
    "        bandNumbers=None, subsamplePcnt=1,\n",
    "        maxSpectralDiff='auto', imgNullVal=noData,\n",
    "        fixedKMeansInit=False, spectDistPcntile=50,\n",
    "        fourConnected=True, verbose=True,\n",
    "        simpleTileRecode=False, outputDriver='KEA')\n",
    "\n",
    "\n",
    "# Build the histogram, segment stats and colour table on the KEA file. \n",
    "outDs = gdal.Open(OUTFILE, gdal.GA_Update)\n",
    "# This builds the histogram of segmentIDs\n",
    "hist = tiling.calcHistogramTiled(outDs, tiledSegResult.maxSegId, writeToRat=True)\n",
    "# This gets the band object representing the segmentIDs\n",
    "band = outDs.GetRasterBand(1)\n",
    "# This adds metadata back into the KEA file making it easier to open and view\n",
    "utils.estimateStatsFromHisto(band, hist)\n",
    "# Uncomment this to write a random color table to the KEA file\n",
    "#utils.writeRandomColourTable(band, tiledSegResult.maxSegId+1)\n",
    "\n",
    "# Close the KEA file\n",
    "del outDs"
   ]
  },
  {
   "cell_type": "markdown",
   "metadata": {},
   "source": [
    "## Generate Zonal Statistics \n",
    "The calcPerSegmentStatsTiled is a very efficient way to calculate various statistics for each segment.\n",
    "\n",
    "A routine is provided to do this in a memory-efficient way, given the original image and the completed segmentation image. \n",
    "\n",
    "A standard set of statistics are available, including mean, standard deviation, and arbitrary percentile values, amongst others. \n",
    "\n",
    "The selected per-segment statistics are written to the segment image file as columns of a raster attribute table (RAT).\n",
    "\n",
    "\n"
   ]
  },
  {
   "cell_type": "code",
   "execution_count": 3,
   "metadata": {},
   "outputs": [],
   "source": [
    "# Build the RGB Stats from the input image\n",
    "for imgbandnum in [1,2,3]:\n",
    "    statsSelection = [\n",
    "        ('band_{}_mean'.format(imgbandnum), 'mean'),  # Calculate the mean per segment\n",
    "        ('band_{}_std'.format(imgbandnum), 'stddev')] # Calculate the standard deviation per segment\n",
    "    tiling.calcPerSegmentStatsTiled(RASTER, imgbandnum, OUTFILE,statsSelection)\n"
   ]
  },
  {
   "cell_type": "markdown",
   "metadata": {},
   "source": [
    "## Export the segment ID and the segment means to GeoTiff images \n",
    "This uses the RIOS library to link the segment ID to the corresponding KEA file"
   ]
  },
  {
   "cell_type": "code",
   "execution_count": 4,
   "metadata": {},
   "outputs": [],
   "source": [
    "# Setup the RIOS inputs and Outputs\n",
    "infiles = applier.FilenameAssociations()\n",
    "outfiles = applier.FilenameAssociations()   \n",
    "infiles.image = OUTFILE\n",
    "outfiles.id = IDFILE\n",
    "outfiles.rgb = RGBFILE\n",
    "\n",
    "# Other inputs include the columns representing the mean values \n",
    "otherargs = applier.OtherInputs()\n",
    "otherargs.b1 = np.round(rat.readColumn(OUTFILE,'band_1_mean')).astype(np.uint16)\n",
    "otherargs.b2 = np.round(rat.readColumn(OUTFILE,'band_2_mean')).astype(np.uint16)\n",
    "otherargs.b3 = np.round(rat.readColumn(OUTFILE,'band_3_mean')).astype(np.uint16)\n",
    "otherargs.noData = noData\n",
    "\n",
    "# Set up RIOS controls\n",
    "controls = applier.ApplierControls()\n",
    "controls.windowxsize = 512\n",
    "controls.windowysize = 512\n",
    "controls.setStatsIgnore(noData)\n",
    "controls.setOutputDriverName(\"GTIFF\")\n",
    "controls.setCreationOptions([\"COMPRESS=DEFLATE\",\n",
    "                             \"ZLEVEL=9\",\n",
    "                             \"BIGTIFF=YES\",\n",
    "                             \"TILED=YES\",\n",
    "                             \"INTERLEAVE=BAND\",\n",
    "                             \"NUM_THREADS=ALL_CPUS\",\n",
    "                             \"BLOCKXSIZE=512\",\n",
    "                             \"BLOCKYSIZE=512\"])\n",
    "\n",
    "# Function applied on image tiles using RIOS applier to extract the segment means\n",
    "def _exportColor(info,inputs,outputs,otherargs):   \n",
    "    # Get the input segment IDs\n",
    "    data = inputs.image\n",
    "    # Get the input array shape\n",
    "    inshape = data.shape\n",
    "    # Flatten the segment id array\n",
    "    data = np.reshape(data,-1)\n",
    "    # Use the segment ids as keys into the band mean attributes\n",
    "    b1 = (otherargs.b1)[data]\n",
    "    b2 = (otherargs.b2)[data]\n",
    "    b3 = (otherargs.b3)[data]\n",
    "    # Stack the segmtn means into a three band image\n",
    "    rgb = np.vstack((b1,b2,b3))\n",
    "    # Reshape the outputs to match the input shape\n",
    "    outputs.id =  np.reshape(data,(1,inshape[1],inshape[2])).astype(np.uint32)\n",
    "    outputs.rgb =  np.reshape(rgb,(3,inshape[1],inshape[2])).astype(np.uint16)\n",
    "\n",
    "# Apply the function\n",
    "applier.apply(_exportColor, infiles, outfiles, otherargs, controls=controls)\n",
    "\n"
   ]
  },
  {
   "cell_type": "markdown",
   "metadata": {},
   "source": [
    "## Build a vector file\n",
    "Sometimes you might want to vectorize the output.\n",
    "\n",
    "This is a much faster version of [gdal_polygonize.py](https://gdal.org/programs/gdal_polygonize.html) as it writes the entire file in one transaction."
   ]
  },
  {
   "cell_type": "code",
   "execution_count": 5,
   "metadata": {},
   "outputs": [],
   "source": [
    "# Open the Raster\n",
    "outDs = gdal.Open(IDFILE)\n",
    "band = outDs.GetRasterBand(1)\n",
    "# Create the vector\n",
    "vecDs = ogr.GetDriverByName(\"GPKG\").CreateDataSource(SEGFILE)\n",
    "vecLayer = vecDs.CreateLayer('segid', srs=osr.SpatialReference(wkt=outDs.GetProjection()))\n",
    "vecLayer.CreateField(ogr.FieldDefn('segid', ogr.OFTInteger))\n",
    "# Polygonize\n",
    "vecDs.StartTransaction()\n",
    "gdal.Polygonize( band, None, vecLayer, 0, [], callback=None)\n",
    "vecDs.CommitTransaction()\n",
    "# Close the raster and vector\n",
    "del outDs\n",
    "del vecDs\n"
   ]
  },
  {
   "cell_type": "markdown",
   "metadata": {},
   "source": [
    "## Cluster the Raster Attributes\n",
    "This is a simple example of how to use KMeans on the raster attributes to cluster the segments. This is a simple example, and you might want to use something more sophisticated from [scikit-learn](https://scikit-learn.org/stable/modules/clustering.html) or [hdbscan](https://hdbscan.readthedocs.io/en/latest/how_hdbscan_works.html).\n"
   ]
  },
  {
   "cell_type": "code",
   "execution_count": 2,
   "metadata": {},
   "outputs": [
    {
     "name": "stdout",
     "output_type": "stream",
     "text": [
      "['Histogram', 'band_1_mean', 'band_1_std', 'band_2_mean', 'band_2_std', 'band_3_mean', 'band_3_std']\n"
     ]
    }
   ],
   "source": [
    "from sklearn.cluster import MiniBatchKMeans\n",
    "from sklearn.metrics import silhouette_score\n",
    "from sklearn.preprocessing import RobustScaler\n",
    "\n",
    "# Get the column names\n",
    "colNames = rat.getColumnNames(OUTFILE)\n",
    "# Print the column names\n",
    "print(colNames)\n"
   ]
  },
  {
   "cell_type": "markdown",
   "metadata": {},
   "source": [
    "### Select the attributes you want to use for clustering\n",
    "Here I am just selecting the means, but feel free to use any of the attributes in the RAT or even add additional attributes using band ratios etc."
   ]
  },
  {
   "cell_type": "code",
   "execution_count": 3,
   "metadata": {},
   "outputs": [
    {
     "name": "stdout",
     "output_type": "stream",
     "text": [
      "[[ 3.41250000e+01  3.91250000e+01  3.31250000e+01 -5.64042303e-02]\n",
      " [ 9.25084076e+01  9.53276367e+01  8.20668640e+01 -4.91316407e-02]\n",
      " [ 4.16428566e+01  4.68214302e+01  3.92857132e+01 -5.89880001e-02]\n",
      " ...\n",
      " [ 4.73333321e+01  4.53333321e+01  4.16666679e+01 -2.72952667e-02]\n",
      " [ 7.67931061e+01  6.70344849e+01  6.03448257e+01 -3.27647546e-02]\n",
      " [ 5.75000000e+01  4.75000000e+01  4.83333321e+01  5.43477436e-03]]\n"
     ]
    }
   ],
   "source": [
    "wantedAttributes = ['band_1_mean', 'band_2_mean', 'band_3_mean']\n",
    "\n",
    "# Read the data into an array\n",
    "clusterData  = np.transpose([rat.readColumn(OUTFILE,name) for name in wantedAttributes])\n",
    "# Drop the first row, as it contains the nodata\n",
    "clusterData = clusterData[1:]\n",
    "# Lets add a ratio index to the data as an example. We also add a small value to avoid divide by zero errors\n",
    "someRatioIndex = (clusterData [:,2]-clusterData [:,1])/(clusterData [:,0]+clusterData [:,1]+clusterData [:,2]+np.finfo(float).eps)\n",
    "# Add the ratio index to the data\n",
    "clusterData  = np.concatenate((clusterData ,someRatioIndex[:,None]),axis=1)\n",
    "# Print an example of the data\n",
    "print(clusterData [:,:5])"
   ]
  },
  {
   "cell_type": "markdown",
   "metadata": {},
   "source": [
    "### Prepare the data for clustering\n",
    "Here we scale the data using a robust scaler, which is a good idea for spectral data. \n",
    "\n",
    "Following this, we calculate the [silhouette score](https://scikit-learn.org/stable/modules/generated/sklearn.metrics.silhouette_score.html) for a range of cluster numbers. This is a good way to determine the number of clusters to use.\n"
   ]
  },
  {
   "cell_type": "code",
   "execution_count": 46,
   "metadata": {},
   "outputs": [
    {
     "name": "stdout",
     "output_type": "stream",
     "text": [
      "2 18562.604143156223 0.43391574510207803\n",
      "3 11329.789676022145 0.5520509513640687\n",
      "4 9207.519491114133 0.537925008391546\n",
      "5 6380.425283216004 0.5823735736863163\n",
      "6 6102.309135353617 0.3457782355354981\n",
      "7 5700.949615790718 0.3275002212817844\n",
      "8 4240.606423521874 0.5427036637207542\n",
      "9 4387.704580338179 0.3528230708308147\n",
      "10 3396.1338614101023 0.37017988235977184\n",
      "11 3728.1150615203546 0.38998147968828606\n",
      "12 3176.1412049637242 0.3726730077632537\n",
      "13 2175.6806548340037 0.40133455536992396\n",
      "14 1904.2244224134845 0.3443067101400719\n",
      "15 2977.338603023128 0.32033107253499604\n",
      "16 1340.0472134015827 0.36444175651706995\n",
      "17 1667.2040270110758 0.38495177424197274\n",
      "18 1458.2703988269213 0.32211217201298453\n",
      "19 1401.101781705855 0.3333811798174915\n",
      "20 1157.1330042135007 0.3316016435725043\n",
      "21 1111.3384002947341 0.3427141821742927\n",
      "22 1044.4148494337314 0.3438984700663941\n",
      "23 1128.7411775379055 0.3705372031415461\n",
      "24 1708.1811624724357 0.32889358502914123\n"
     ]
    },
    {
     "data": {
      "text/plain": [
       "Text(0.5, 0, 'Number of clusters')"
      ]
     },
     "execution_count": 46,
     "metadata": {},
     "output_type": "execute_result"
    },
    {
     "data": {
      "image/png": "[encoded data removed]",
      "text/plain": [
       "<Figure size 864x288 with 1 Axes>"
      ]
     },
     "metadata": {
      "needs_background": "light"
     },
     "output_type": "display_data"
    }
   ],
   "source": [
    "# Scale the data\n",
    "clusterData = RobustScaler().fit_transform(clusterData)\n",
    "\n",
    "# Sample the data to reduce the number of points\n",
    "MAX_TESTING_POINTS = 5000\n",
    "sampleSize = min(MAX_TESTING_POINTS,clusterData.shape[0])\n",
    "sampleIdx = np.random.choice(clusterData.shape[0],sampleSize,replace=False)\n",
    "\n",
    "\n",
    "# Find the optimal number of clusters\n",
    "inertia = []\n",
    "silhouette = []\n",
    "nclasses = range(2,25)\n",
    "for c in nclasses:\n",
    "    kmeans = MiniBatchKMeans(n_clusters=c).fit(clusterData[sampleIdx])\n",
    "    inertia.append(kmeans.inertia_)\n",
    "    silhouette.append(silhouette_score(clusterData[sampleIdx], kmeans.labels_))\n",
    "    print(c,inertia[-1],silhouette[-1])\n",
    "\n",
    "# Plot the silhouette score\n",
    "plt.figure(figsize=(12,4))\n",
    "plt.plot(nclasses, silhouette)\n",
    "plt.grid()\n",
    "plt.title('Clustering silhouette score')\n",
    "plt.xlabel('Number of clusters')"
   ]
  },
  {
   "cell_type": "markdown",
   "metadata": {},
   "source": [
    "### Cluster the complete dataset using a selected number of clusters\n",
    "Select the number of clusters you think is useful, and then cluster the data."
   ]
  },
  {
   "cell_type": "code",
   "execution_count": 49,
   "metadata": {},
   "outputs": [],
   "source": [
    "OPTIMAL_NUM_CLUSTERS = 15\n",
    "# Cluster the full dataset\n",
    "kmeans = MiniBatchKMeans(n_clusters = OPTIMAL_NUM_CLUSTERS).fit(clusterData)\n",
    "# Get the cluster labels and add one to avoid zero values\n",
    "clusterLabels = kmeans.labels_ + 1\n",
    "# Add back in the first row of nodata\n",
    "clusterLabels = np.insert(clusterLabels,0,0)"
   ]
  },
  {
   "cell_type": "markdown",
   "metadata": {},
   "source": [
    "## Extract the raster attributes into a CSV file\n",
    "This is a utility function that just pulls the raster attributes into a simple CSV file that you can then join to the vector file in a GIS.\n",
    "\n",
    "The linking attribute is the segid, which is the same as the segid in the vector file. See the animated gif in the readme for an example of how to do this in QGIS."
   ]
  },
  {
   "cell_type": "code",
   "execution_count": 50,
   "metadata": {},
   "outputs": [],
   "source": [
    "# Get the column names\n",
    "colNames = rat.getColumnNames(OUTFILE)\n",
    "# Read the data into an array\n",
    "allData = np.transpose([rat.readColumn(OUTFILE,name) for name in colNames])\n",
    "# Add an index column\n",
    "allData = np.vstack((np.arange(len(allData)),allData.T)).T\n",
    "# Add the kmeans labels\n",
    "allData = np.vstack((allData.T,clusterLabels)).T\n",
    "# Make a header\n",
    "colNames.insert(0,'segid')\n",
    "colNames.append('kmeans_label')\n",
    "header = ','.join(colNames)\n",
    "# Write the file\n",
    "np.savetxt(CSVFILE,allData,fmt='%8.3f',delimiter=',',header=header,comments='')\n"
   ]
  },
  {
   "cell_type": "code",
   "execution_count": null,
   "metadata": {},
   "outputs": [],
   "source": []
  }
 ],
 "metadata": {
  "kernelspec": {
   "display_name": "Python 3 (ipykernel)",
   "language": "python",
   "name": "python3"
  },
  "language_info": {
   "codemirror_mode": {
    "name": "ipython",
    "version": 3
   },
   "file_extension": ".py",
   "mimetype": "text/x-python",
   "name": "python",
   "nbconvert_exporter": "python",
   "pygments_lexer": "ipython3",
   "version": "3.9.13"
  },
  "vscode": {
   "interpreter": {
    "hash": "8478c2d4f27a82cd614f45fc3a5825e5be922b827d02cab10c48ce312e9ff789"
   }
  }
 },
 "nbformat": 4,
 "nbformat_minor": 4
}
